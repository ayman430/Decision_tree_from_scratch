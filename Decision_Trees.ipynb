{
 "cells": [
  {
   "cell_type": "markdown",
   "id": "d0faa1c7",
   "metadata": {},
   "source": [
    "## Decision Tree \n",
    "Supervised machine learning algorithm, that resembles flowchart structure, representing decisions and their potential consequences, used for classification and regression"
   ]
  },
  {
   "cell_type": "code",
   "execution_count": 1,
   "id": "6e9f6b1e",
   "metadata": {},
   "outputs": [],
   "source": [
    "import numpy as np \n",
    "import pandas as pd \n",
    "import matplotlib.pyplot as plt "
   ]
  },
  {
   "cell_type": "markdown",
   "id": "d29faa39",
   "metadata": {},
   "source": [
    "## problem Statemen \n",
    "\n",
    "- We have 3 features for cats and dogs and want to classify them according to these features"
   ]
  },
  {
   "cell_type": "markdown",
   "id": "285deb63",
   "metadata": {},
   "source": [
    "|                                                     |   Ear Shape | Face Shape | Whiskers |   Cat  |\n",
    "|:---------------------------------------------------:|:---------:|:-----------:|:---------:|:------:|\n",
    "| <img src=\"images/0.png\" alt=\"drawing\" width=\"50\"/> |   Pointy   |   Round     |  Present  |    1   |\n",
    "| <img src=\"images/1.png\" alt=\"drawing\" width=\"50\"/> |   Floppy   |  Not Round  |  Present  |    1   |\n",
    "| <img src=\"images/2.png\" alt=\"drawing\" width=\"50\"/> |   Floppy   |  Round      |  Absent   |    0   |\n",
    "| <img src=\"images/3.png\" alt=\"drawing\" width=\"50\"/> |   Pointy   |  Not Round  |  Present  |    0   |\n",
    "| <img src=\"images/4.png\" alt=\"drawing\" width=\"50\"/> |   Pointy   |   Round     |  Present  |    1   |\n",
    "| <img src=\"images/5.png\" alt=\"drawing\" width=\"50\"/> |   Pointy   |   Round     |  Absent   |    1   |\n",
    "| <img src=\"images/6.png\" alt=\"drawing\" width=\"50\"/> |   Floppy   |  Not Round  |  Absent   |    0   |\n",
    "| <img src=\"images/7.png\" alt=\"drawing\" width=\"50\"/> |   Pointy   |  Round      |  Absent   |    1   |\n",
    "| <img src=\"images/8.png\" alt=\"drawing\" width=\"50\"/> |    Floppy  |   Round     |  Absent   |    0   |\n",
    "| <img src=\"images/9.png\" alt=\"drawing\" width=\"50\"/> |   Floppy   |  Round      |  Absent   |    0   |\n"
   ]
  },
  {
   "cell_type": "markdown",
   "id": "7906b797",
   "metadata": {},
   "source": [
    "Encoding the categorical features:\n",
    "\n",
    "- Ear Shape: Pointy = 1, Floppy = 0\n",
    "- Face Shape: Round = 1, Not Round = 0\n",
    "- Whiskers: Present = 1, Absent = 0"
   ]
  },
  {
   "cell_type": "markdown",
   "id": "e70f865e",
   "metadata": {},
   "source": [
    "## Data set"
   ]
  },
  {
   "cell_type": "code",
   "execution_count": 2,
   "id": "10cb359c",
   "metadata": {},
   "outputs": [],
   "source": [
    "X_train = np.array([[1, 1, 1],\n",
    "[0, 0, 1],\n",
    " [0, 1, 0],\n",
    " [1, 0, 1],\n",
    " [1, 1, 1],\n",
    " [1, 1, 0],\n",
    " [0, 0, 0],\n",
    " [1, 1, 0],\n",
    " [0, 1, 0],\n",
    " [0, 1, 0]])\n",
    "\n",
    "y_train = np.array([1, 1, 0, 0, 1, 1, 0, 1, 0, 0])"
   ]
  },
  {
   "cell_type": "code",
   "execution_count": 3,
   "id": "1805dcbb",
   "metadata": {},
   "outputs": [
    {
     "data": {
      "text/plain": [
       "array([1, 1, 1])"
      ]
     },
     "execution_count": 3,
     "metadata": {},
     "output_type": "execute_result"
    }
   ],
   "source": [
    "y_train[X_train[0]]"
   ]
  },
  {
   "cell_type": "markdown",
   "id": "12550bad",
   "metadata": {},
   "source": [
    "## Build DT functions from scratch "
   ]
  },
  {
   "cell_type": "markdown",
   "id": "122bab24",
   "metadata": {},
   "source": [
    "### 1- Entropy <br>\n",
    "\n",
    "$$H(p_1) = -p_1 \\text{log}_2(p_1) - (1- p_1) \\text{log}_2(1- p_1)$$\n",
    "\n",
    "#### The higher the entropy, the lower the purity"
   ]
  },
  {
   "cell_type": "code",
   "execution_count": 4,
   "id": "6f67b69b",
   "metadata": {},
   "outputs": [
    {
     "data": {
      "text/plain": [
       "array([1, 1, 1, 1, 1])"
      ]
     },
     "execution_count": 4,
     "metadata": {},
     "output_type": "execute_result"
    }
   ],
   "source": [
    "y_train[y_train==1]"
   ]
  },
  {
   "cell_type": "code",
   "execution_count": 5,
   "id": "1b82e856",
   "metadata": {},
   "outputs": [],
   "source": [
    "def compute_entropy(y):\n",
    "    entropy = 0\n",
    "    if len(y) != 0:\n",
    "        p = sum(y) / len(y)\n",
    "        if p == 1 or p == 0:\n",
    "            entropy = 0\n",
    "        elif p == .5:\n",
    "            entropy = 1\n",
    "        else:\n",
    "            entropy = -p * np.log2(p) - (1-p) * np.log2(1-p)\n",
    "    else:\n",
    "         entropy = 0\n",
    "    \n",
    "    return entropy\n"
   ]
  },
  {
   "cell_type": "code",
   "execution_count": 6,
   "id": "31f2f6cf",
   "metadata": {},
   "outputs": [
    {
     "data": {
      "text/plain": [
       "0.9709505944546686"
      ]
     },
     "execution_count": 6,
     "metadata": {},
     "output_type": "execute_result"
    }
   ],
   "source": [
    "# Test function\n",
    "a = [1,1,1,0, 0]\n",
    "compute_entropy(a)"
   ]
  },
  {
   "cell_type": "markdown",
   "id": "1bcfc720",
   "metadata": {},
   "source": [
    "### 2- ٍsplit indices\n",
    "\n",
    "Given a dataset and a index feature, return two lists for the two split nodes <br> the left node has the animals that have \n",
    "that feature = 1 and the right node those that have the feature = 0 <br>\n",
    "index feature = 0 => ear shape <br>\n",
    "index feature = 1 => face shape <br>\n",
    "index feature = 2 => whiskers <br>\n"
   ]
  },
  {
   "cell_type": "code",
   "execution_count": 7,
   "id": "6dcb8963",
   "metadata": {},
   "outputs": [],
   "source": [
    "def split_indices(X, node_indices,feature):\n",
    "    left_indices = []\n",
    "    right_indices = []\n",
    "    \n",
    "    for i in node_indices:\n",
    "        if X[i, feature] == 1:\n",
    "            left_indices.append(i)\n",
    "        else:\n",
    "            right_indices.append(i)\n",
    "            \n",
    "    return left_indices, right_indices  "
   ]
  },
  {
   "cell_type": "code",
   "execution_count": 8,
   "id": "e5426954",
   "metadata": {},
   "outputs": [
    {
     "name": "stdout",
     "output_type": "stream",
     "text": [
      "left indices are => [0, 3, 4, 5, 7]\n",
      "right indices are => [1, 2, 6, 8, 9]\n"
     ]
    }
   ],
   "source": [
    "# Test function\n",
    "root = np.arange(10)\n",
    "l,r = split_indices(X_train,root, 0) # ear shape feature as a root node \n",
    "\n",
    "print(f\"left indices are => {l}\")\n",
    "print(f\"right indices are => {r}\")"
   ]
  },
  {
   "cell_type": "code",
   "execution_count": 9,
   "id": "321b918c",
   "metadata": {},
   "outputs": [
    {
     "name": "stdout",
     "output_type": "stream",
     "text": [
      "left indices are => [0, 4, 5, 7]\n",
      "right indices are => [3]\n"
     ]
    }
   ],
   "source": [
    "# Now split in lesft incisces\n",
    "ll,rl = split_indices(X_train,l, 1) # face shape\n",
    "print(f\"left indices are => {ll}\")\n",
    "print(f\"right indices are => {rl}\")"
   ]
  },
  {
   "cell_type": "code",
   "execution_count": 10,
   "id": "435cd8fb",
   "metadata": {},
   "outputs": [
    {
     "data": {
      "text/plain": [
       "array([1, 1, 1, 1])"
      ]
     },
     "execution_count": 10,
     "metadata": {},
     "output_type": "execute_result"
    }
   ],
   "source": [
    "y_train[ll] #then if pointy and round then its a cat"
   ]
  },
  {
   "cell_type": "markdown",
   "id": "fde5a93e",
   "metadata": {},
   "source": [
    "### 3- Information Gain\n",
    "\n",
    "$$\\text{Information Gain} = H(p_1^\\text{node})- (w^{\\text{left}}H(p_1^\\text{left}) + w^{\\text{right}}H(p_1^\\text{right}))$$\n"
   ]
  },
  {
   "cell_type": "code",
   "execution_count": 11,
   "id": "69743d89",
   "metadata": {},
   "outputs": [],
   "source": [
    "def information_gain(X, y, node_indices, feature):\n",
    "    information_gain = 0\n",
    "    \n",
    "    left_indices, right_indices = split_indices(X, node_indices,feature)\n",
    "    \n",
    "    w_left  = len(left_indices) / len(X) # w indicate to number of elements in node / number of elements in root node\n",
    "    w_right = len(right_indices) / len(X)\n",
    "    \n",
    "    if len(left_indices) == 0 or len(right_indices) == 0:\n",
    "        p_left = p_right = 0\n",
    "    else:\n",
    "        p_left  = sum(y[left_indices]) / len(left_indices)\n",
    "        p_right = sum(y[right_indices]) / len(right_indices)\n",
    "    \n",
    "    root_entropy  = compute_entropy(y)\n",
    "    left_entropy  = compute_entropy(y[left_indices])\n",
    "    right_entropy = compute_entropy(y[right_indices])\n",
    "    \n",
    "    information_gain = root_entropy - (w_left * left_entropy + w_right * right_entropy)\n",
    "    \n",
    "    return information_gain"
   ]
  },
  {
   "cell_type": "code",
   "execution_count": 12,
   "id": "2bb9909f",
   "metadata": {},
   "outputs": [
    {
     "name": "stdout",
     "output_type": "stream",
     "text": [
      "information_gain for ear shape  = 0.28\n",
      "information_gain for face shape = 0.03\n",
      "information_gain for whiskers   = 0.12\n"
     ]
    }
   ],
   "source": [
    "# Test function \n",
    "root = np.arange(10)\n",
    "info_gain_ear_shape  = information_gain(X_train, y_train, root, 0 )\n",
    "info_gain_face_shape = information_gain(X_train, y_train, root, 1 )\n",
    "info_gain_whiskers   = information_gain(X_train, y_train, root, 2 )\n",
    "\n",
    "print(f\"information_gain for ear shape  = {info_gain_ear_shape:.2f}\")\n",
    "print(f\"information_gain for face shape = {info_gain_face_shape:.2f}\")\n",
    "print(f\"information_gain for whiskers   = {info_gain_whiskers:.2f}\")"
   ]
  },
  {
   "cell_type": "markdown",
   "id": "ac4452e9",
   "metadata": {},
   "source": [
    "### 4- Get best split"
   ]
  },
  {
   "cell_type": "code",
   "execution_count": 13,
   "id": "0aef5fd3",
   "metadata": {},
   "outputs": [
    {
     "data": {
      "text/plain": [
       "3"
      ]
     },
     "execution_count": 13,
     "metadata": {},
     "output_type": "execute_result"
    }
   ],
   "source": [
    "X_train.shape[1]"
   ]
  },
  {
   "cell_type": "code",
   "execution_count": 14,
   "id": "57bd32d3",
   "metadata": {},
   "outputs": [],
   "source": [
    "def get_best_split(X, y, node_indices):\n",
    "    num_of_features = X.shape[1]\n",
    "\n",
    "    best_feature = 0\n",
    "    max_info_gain = 0\n",
    "    \n",
    "    for i in range(num_of_features):\n",
    "        info_gain = information_gain(X, y, node_indices, i)\n",
    "        \n",
    "        if max_info_gain < info_gain:\n",
    "            max_info_gain = info_gain\n",
    "            best_feature = i\n",
    "    return best_feature"
   ]
  },
  {
   "cell_type": "code",
   "execution_count": 15,
   "id": "1d276005",
   "metadata": {},
   "outputs": [
    {
     "name": "stdout",
     "output_type": "stream",
     "text": [
      "best feature is 0\n"
     ]
    }
   ],
   "source": [
    "# Test function \n",
    "print(f\"best feature is {get_best_split(X_train, y_train, root)}\")"
   ]
  },
  {
   "cell_type": "code",
   "execution_count": 16,
   "id": "b14878c1",
   "metadata": {},
   "outputs": [
    {
     "name": "stdout",
     "output_type": "stream",
     "text": [
      "best feature in side of ear shape is pointy 1\n"
     ]
    }
   ],
   "source": [
    "# in\n",
    "print(f\"best feature in side of ear shape is pointy {get_best_split(X_train, y_train, l)}\")"
   ]
  },
  {
   "cell_type": "markdown",
   "id": "4892c67a",
   "metadata": {},
   "source": [
    "## Building the tree"
   ]
  },
  {
   "cell_type": "code",
   "execution_count": 17,
   "id": "012503c3",
   "metadata": {},
   "outputs": [],
   "source": [
    "# Not graded\n",
    "tree = []\n",
    "\n",
    "def build_tree_recursive(X, y, node_indices, branch_name, max_depth, current_depth):\n",
    "    \"\"\"\n",
    "    Build a tree using the recursive algorithm that split the dataset into 2 subgroups at each node.\n",
    "    This function just prints the tree.\n",
    "    \n",
    "    Args:\n",
    "        X (ndarray):            Data matrix of shape(n_samples, n_features)\n",
    "        y (array like):         list or ndarray with n_samples containing the target variable\n",
    "        node_indices (ndarray): List containing the active indices. I.e, the samples being considered in this step.\n",
    "        branch_name (string):   Name of the branch. ['Root', 'Left', 'Right']\n",
    "        max_depth (int):        Max depth of the resulting tree. \n",
    "        current_depth (int):    Current depth. Parameter used during recursive call.\n",
    "   \n",
    "    \"\"\" \n",
    "\n",
    "    # Maximum depth reached - stop splitting\n",
    "    if current_depth == max_depth:\n",
    "        formatting = \" \"*current_depth + \"-\"*current_depth\n",
    "        print(formatting, \"%s leaf node with indices\" % branch_name, node_indices)\n",
    "        return\n",
    "   \n",
    "    # Otherwise, get best split and split the data\n",
    "    # Get the best feature and threshold at this node\n",
    "    best_feature = get_best_split(X, y, node_indices) \n",
    "    \n",
    "    formatting = \"-\"*current_depth\n",
    "    print(\"%s Depth %d, %s: Split on feature: %d\" % (formatting, current_depth, branch_name, best_feature))\n",
    "    \n",
    "    # Split the dataset at the best feature\n",
    "    left_indices, right_indices = split_indices(X, node_indices, best_feature)\n",
    "    tree.append((left_indices, right_indices, best_feature))\n",
    "    \n",
    "    # continue splitting the left and the right child. Increment current depth\n",
    "    build_tree_recursive(X, y, left_indices, \"Left\", max_depth, current_depth+1)\n",
    "    build_tree_recursive(X, y, right_indices, \"Right\", max_depth, current_depth+1)"
   ]
  },
  {
   "cell_type": "code",
   "execution_count": 18,
   "id": "29ccfbd8",
   "metadata": {},
   "outputs": [
    {
     "name": "stdout",
     "output_type": "stream",
     "text": [
      " Depth 0, Root: Split on feature: 0\n",
      "- Depth 1, Left: Split on feature: 1\n",
      "  -- Left leaf node with indices [0, 4, 5, 7]\n",
      "  -- Right leaf node with indices [3]\n",
      "- Depth 1, Right: Split on feature: 2\n",
      "  -- Left leaf node with indices [1]\n",
      "  -- Right leaf node with indices [2, 6, 8, 9]\n"
     ]
    }
   ],
   "source": [
    "build_tree_recursive(X_train, y_train, root, \"Root\", max_depth=2, current_depth=0)\n"
   ]
  },
  {
   "cell_type": "code",
   "execution_count": null,
   "id": "eb616b31",
   "metadata": {},
   "outputs": [],
   "source": []
  },
  {
   "cell_type": "code",
   "execution_count": null,
   "id": "25f6f7a0",
   "metadata": {},
   "outputs": [],
   "source": []
  }
 ],
 "metadata": {
  "kernelspec": {
   "display_name": "Python 3 (ipykernel)",
   "language": "python",
   "name": "python3"
  },
  "language_info": {
   "codemirror_mode": {
    "name": "ipython",
    "version": 3
   },
   "file_extension": ".py",
   "mimetype": "text/x-python",
   "name": "python",
   "nbconvert_exporter": "python",
   "pygments_lexer": "ipython3",
   "version": "3.9.12"
  }
 },
 "nbformat": 4,
 "nbformat_minor": 5
}
